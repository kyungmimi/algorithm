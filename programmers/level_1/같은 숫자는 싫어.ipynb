{
 "cells": [
  {
   "cell_type": "markdown",
   "id": "249bff6a-ce17-4713-84eb-e237ff592aa9",
   "metadata": {},
   "source": [
    "<div class=\"guide-section \" id=\"tour2\" style=\"width: calc(40% - 12px);\">\n",
    "    <div class=\"guide-section-description\">\n",
    "      <h6 class=\"guide-section-title\">문제 설명</h6>\n",
    "      <div class=\"markdown solarized-dark\"><p>배열 arr가 주어집니다. 배열 arr의 각 원소는 숫자 0부터 9까지로 이루어져 있습니다. 이때, 배열 arr에서 연속적으로 나타나는 숫자는 하나만 남기고 전부 제거하려고 합니다. 단, 제거된 후 남은 수들을 반환할 때는 배열 arr의 원소들의 순서를 유지해야 합니다. 예를 들면,</p>\n",
    "\n",
    "<ul>\n",
    "<li>arr = [1, 1, 3, 3, 0, 1, 1] 이면 [1, 3, 0, 1] 을 return 합니다.</li>\n",
    "<li>arr = [4, 4, 4, 3, 3] 이면 [4, 3] 을 return 합니다.</li>\n",
    "</ul>\n",
    "\n",
    "<p>배열 arr에서 연속적으로 나타나는 숫자는 제거하고 남은 수들을 return 하는 solution 함수를 완성해 주세요.</p>\n",
    "\n",
    "<h5>제한사항</h5>\n",
    "\n",
    "<ul>\n",
    "<li>배열 arr의 크기 : 1,000,000 이하의 자연수</li>\n",
    "<li>배열 arr의 원소의 크기 : 0보다 크거나 같고 9보다 작거나 같은 정수</li>\n",
    "</ul>\n",
    "\n",
    "<hr>\n",
    "\n",
    "<h5>입출력 예</h5>\n",
    "<table class=\"table\">\n",
    "        <thead><tr>\n",
    "<th>arr</th>\n",
    "<th>answer</th>\n",
    "</tr>\n",
    "</thead>\n",
    "        <tbody><tr>\n",
    "<td>[1,1,3,3,0,1,1]</td>\n",
    "<td>[1,3,0,1]</td>\n",
    "</tr>\n",
    "<tr>\n",
    "<td>[4,4,4,3,3]</td>\n",
    "<td>[4,3]</td>\n",
    "</tr>\n",
    "</tbody>\n",
    "      </table>\n",
    "<h5>입출력 예 설명</h5>\n",
    "\n",
    "<p>입출력 예 #1,2<br>\n",
    "문제의 예시와 같습니다.</p>\n",
    "</div>\n",
    "    </div>\n",
    "  </div>"
   ]
  },
  {
   "cell_type": "markdown",
   "id": "5d31be30-bb9f-4fc5-a4f5-60813f4ed931",
   "metadata": {},
   "source": [
    "<수도 코드>\n",
    "리스트의 길이 만큼 하나씩 뽑아서, 같으면 pass 없으면 append 한다 "
   ]
  },
  {
   "cell_type": "code",
   "execution_count": 1,
   "id": "02a85a0b-07b3-4115-954a-a104e8187d75",
   "metadata": {},
   "outputs": [],
   "source": [
    "arr = [1,1,3,3,0,1,1]\n",
    "result = []\n",
    "for i in arr:\n",
    "    if i in result:\n",
    "        continue\n",
    "    else:\n",
    "        result.append(i)"
   ]
  },
  {
   "cell_type": "code",
   "execution_count": 2,
   "id": "e7934197-670f-4251-894c-a575b24f8e53",
   "metadata": {},
   "outputs": [
    {
     "data": {
      "text/plain": [
       "[1, 3, 0]"
      ]
     },
     "execution_count": 2,
     "metadata": {},
     "output_type": "execute_result"
    }
   ],
   "source": [
    "result"
   ]
  },
  {
   "cell_type": "markdown",
   "id": "729487d7-9170-4ec5-902d-8f9e90ff2566",
   "metadata": {},
   "source": [
    "하나씩 순서대로 읽고 앞에 있는 순자와 현재 숫자 비교를 해서 같으면 pass 다르면 기준이 다음 걸로 넘어감"
   ]
  },
  {
   "cell_type": "code",
   "execution_count": 3,
   "id": "fe7a0a90-9bf6-444e-b2ad-ce44ee2123e6",
   "metadata": {},
   "outputs": [],
   "source": [
    "def solution(arr):\n",
    "    result = [arr[0]]\n",
    "    for i in arr:\n",
    "        if i == result[-1]:\n",
    "            continue\n",
    "        else:\n",
    "            result.append(i)\n",
    "    return result"
   ]
  },
  {
   "cell_type": "code",
   "execution_count": 4,
   "id": "78813e53-4c7d-426f-8756-da17dbbe653f",
   "metadata": {},
   "outputs": [
    {
     "data": {
      "text/plain": [
       "[1, 3, 0, 1]"
      ]
     },
     "execution_count": 4,
     "metadata": {},
     "output_type": "execute_result"
    }
   ],
   "source": [
    "solution(arr)"
   ]
  }
 ],
 "metadata": {
  "kernelspec": {
   "display_name": "Python 3 (ipykernel)",
   "language": "python",
   "name": "python3"
  },
  "language_info": {
   "codemirror_mode": {
    "name": "ipython",
    "version": 3
   },
   "file_extension": ".py",
   "mimetype": "text/x-python",
   "name": "python",
   "nbconvert_exporter": "python",
   "pygments_lexer": "ipython3",
   "version": "3.11.5"
  }
 },
 "nbformat": 4,
 "nbformat_minor": 5
}
